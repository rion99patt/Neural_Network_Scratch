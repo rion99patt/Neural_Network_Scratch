{
 "cells": [
  {
   "cell_type": "markdown",
   "id": "36c60739",
   "metadata": {},
   "source": [
    "# IMPORTING NECESSARY LIBRARIES\n",
    "\n",
    "- numpy : for loading data from csv, performing calculations during modle creation, training and evaluation\n",
    "\n",
    "- matplotlib.pyplot  : for visualising images and results\n",
    "\n",
    "- random : for initialization and random picking of images"
   ]
  },
  {
   "cell_type": "code",
   "execution_count": 1,
   "id": "6d3e1432",
   "metadata": {},
   "outputs": [],
   "source": [
    "import numpy as np\n",
    "import matplotlib.pyplot as plt\n",
    "import random"
   ]
  },
  {
   "cell_type": "markdown",
   "id": "a26160b2",
   "metadata": {},
   "source": [
    "# IMPORTING DATASETS\n",
    "    \n",
    "- The shape of the input layer i.e the input sample must be (n,m) for calculation purposes\n",
    "- The shape of the ouput should be (10,m) for calculation purposes\n",
    "\n",
    "    Where\n",
    "\n",
    "    - n = total number of features (here as it is an image of 28*28 as we flatten it to 784 where each pixel represents a feature for each data sample)\n",
    "\n",
    "    - m = total number of data samples that we are using for training/testing (here for training we have total 1000 images or data samples)\n",
    "\n",
    "    - 10 = the output classes (as numbers from 0 to 9)  \n"
   ]
  },
  {
   "cell_type": "markdown",
   "id": "751a2eac",
   "metadata": {},
   "source": []
  },
  {
   "cell_type": "code",
   "execution_count": 2,
   "id": "805ba923",
   "metadata": {},
   "outputs": [],
   "source": [
    "X_train= np.loadtxt('features_train.csv',delimiter=',')\n",
    "Y_train=np.loadtxt('label_train.csv',delimiter=',')"
   ]
  },
  {
   "cell_type": "markdown",
   "id": "015a72d0",
   "metadata": {},
   "source": [
    "# VISUALISING DATA\n",
    "\n",
    "- You will observe by running below code that the size of X_train will be (1000,784) and that of Y_train be (1000,10)\n",
    "\n",
    "- Thus we will have to take transpose \n"
   ]
  },
  {
   "cell_type": "code",
   "execution_count": 3,
   "id": "defd6ede",
   "metadata": {},
   "outputs": [
    {
     "name": "stdout",
     "output_type": "stream",
     "text": [
      "\n",
      "The shape of X_train is (1000, 784)\n",
      "\n",
      " [[0. 0. 0. ... 0. 0. 0.]\n",
      " [0. 0. 0. ... 0. 0. 0.]\n",
      " [0. 0. 0. ... 0. 0. 0.]\n",
      " ...\n",
      " [0. 0. 0. ... 0. 0. 0.]\n",
      " [0. 0. 0. ... 0. 0. 0.]\n",
      " [0. 0. 0. ... 0. 0. 0.]]\n",
      "\n",
      "The shape of Y_train is (1000, 10)\n",
      "\n",
      " [[1. 0. 0. ... 0. 0. 0.]\n",
      " [1. 0. 0. ... 0. 0. 0.]\n",
      " [1. 0. 0. ... 0. 0. 0.]\n",
      " ...\n",
      " [0. 0. 0. ... 0. 0. 1.]\n",
      " [0. 0. 0. ... 0. 0. 1.]\n",
      " [0. 0. 0. ... 0. 0. 1.]]\n"
     ]
    }
   ],
   "source": [
    "print(f\"\\nThe shape of X_train is {X_train.shape}\")\n",
    "print(\"\\n\",X_train)\n",
    "print(f\"\\nThe shape of Y_train is {Y_train.shape}\")\n",
    "print(\"\\n\",Y_train)"
   ]
  },
  {
   "cell_type": "code",
   "execution_count": 4,
   "id": "a7e99fcb",
   "metadata": {},
   "outputs": [
    {
     "name": "stdout",
     "output_type": "stream",
     "text": [
      "\n",
      "The shape of X_train now is (784, 1000)\n",
      "\n",
      "The shape of Y_train now is (10, 1000)\n"
     ]
    }
   ],
   "source": [
    "X_train=X_train.T\n",
    "Y_train=Y_train.T\n",
    "print(f\"\\nThe shape of X_train now is {X_train.shape}\")\n",
    "print(f\"\\nThe shape of Y_train now is {Y_train.shape}\")"
   ]
  },
  {
   "cell_type": "markdown",
   "id": "01cd5afd",
   "metadata": {},
   "source": [
    "# LET'S TAKE A LOOK AT THE IMAGE OF ONE OF OUR NUMBERS"
   ]
  },
  {
   "cell_type": "code",
   "execution_count": 5,
   "id": "429d98b6",
   "metadata": {},
   "outputs": [
    {
     "data": {
      "text/plain": [
       "<function matplotlib.pyplot.show(close=None, block=None)>"
      ]
     },
     "execution_count": 5,
     "metadata": {},
     "output_type": "execute_result"
    },
    {
     "data": {
      "image/png": "[encoded data removed]",
      "text/plain": [
       "<Figure size 640x480 with 1 Axes>"
      ]
     },
     "metadata": {},
     "output_type": "display_data"
    }
   ],
   "source": [
    "rand_idx=int(random.randrange(0,X_train.shape[1])) # generate a random index  (as we took transpose we need the second index of the shape)\n",
    "plt.imshow(X_train[:,rand_idx].reshape(28,28),cmap='gray') # want all rows(pixels) and choose the column(rand_idx i.e image) and reshape it\n",
    "plt.show"
   ]
  },
  {
   "cell_type": "markdown",
   "id": "cba98fb3",
   "metadata": {},
   "source": [
    "# MODEL ARCHITECTURE \n",
    "\n",
    "- THE NEURAL NETWORK MODEL WHICH WE ARE BUILDING HERE WILL HAVE THE FOLLOWING ARCHITECTURE:\n",
    "\n",
    "    - INPUT LAYER: TAKES AN IMAGE FLATTENED OF SIZE (28*28 PIXELS =784)\n",
    "    - HIDDEN LAYER: CONSISTING OF 1000 NEURONS WITH ReLU ACTIVATION FUNCTION\n",
    "    - OUTPUT LAYER: CONSISTING OF 10 NEURONS AS OUTPUT MUST ONE OF THE 10 NUMBERS "
   ]
  },
  {
   "cell_type": "markdown",
   "id": "2fa578be",
   "metadata": {},
   "source": [
    "## Model is implemented using the following equations with the derivations provided int the derivations.pdf "
   ]
  },
  {
   "cell_type": "markdown",
   "id": "3aec3e23",
   "metadata": {},
   "source": []
  },
  {
   "cell_type": "markdown",
   "id": "52c09753",
   "metadata": {},
   "source": [
    "# How does the model work ?\n",
    "\n",
    "## First we initialize the parameters:\n",
    "\n",
    "### What are the parameters ?\n"
   ]
  },
  {
   "cell_type": "markdown",
   "id": "a4047adc",
   "metadata": {},
   "source": []
  },
  {
   "cell_type": "markdown",
   "id": "8bccf90e",
   "metadata": {},
   "source": [
    "- For Hidden Layer the shape of weight must be:\n",
    "\n",
    "    - W1.shape = (1000,784) -> Weights  \n",
    "\n",
    "    As the next 1000 because the hidden layer consists of 1000 neurons\n",
    "    and 784 because the input fed to the layer comes from input layer having 784 neurons.\n",
    "\n",
    "    - b1.shape = (1000,1)   -> Bias\n",
    "\n",
    "    As 1000 neurons and each neuron has one bias \n",
    "\n",
    "    \n",
    "- For the Output Layer the shape of the weight and bias must be:\n",
    "\n",
    "    - W2.shape = (10,1000)  -> Weights\n",
    "    \n",
    "    - b2.shape = (10,1)     -> Bias\n",
    "    \n",
    "- We Initialize the weights randomly as they will be updated and recalculated to fit the model during backpropogation , and the biases we will initialize to zero."
   ]
  },
  {
   "cell_type": "markdown",
   "id": "144a0890",
   "metadata": {},
   "source": []
  },
  {
   "cell_type": "markdown",
   "id": "e05a4310",
   "metadata": {},
   "source": [
    "# Following will be the steps for forward propogation "
   ]
  },
  {
   "cell_type": "markdown",
   "id": "392e0426",
   "metadata": {},
   "source": [
    "- Z1 = W1 * X + B1\n",
    "- A1 = f( Z1 )   -> ACTIVATION FUNCTION\n",
    "- Z2 = W2 * A1 + B2 \n",
    "- A2 = SoftMax( Z2 )\n",
    "\n"
   ]
  },
  {
   "cell_type": "markdown",
   "id": "932c09ef",
   "metadata": {},
   "source": [
    "## Softmax"
   ]
  },
  {
   "cell_type": "markdown",
   "id": "386850f0",
   "metadata": {},
   "source": []
  },
  {
   "cell_type": "markdown",
   "id": "cc20b33d",
   "metadata": {},
   "source": [
    "- $ ai = \\frac{e^{z_i}}{\\sum_{i=k}^ne^{z_k}} $"
   ]
  },
  {
   "cell_type": "markdown",
   "id": "e8a514f2",
   "metadata": {},
   "source": [
    "## Cost Function\n",
    "\n",
    "- $Loss = - \\sum_{i=k}^{n}[ y_k*log(a_k) ]$\n",
    "\n",
    "- $Cost = - \\frac{1}{m}\\sum_{i=1}^{m}\\sum_{k=1}^{n}[ y_k*log(a_k) ]$"
   ]
  },
  {
   "cell_type": "markdown",
   "id": "fe4b5d6d",
   "metadata": {},
   "source": [
    "# Following will be the steps for backward propogation\n",
    "\n",
    "- Note: that dZ or anything means derivative of cost w.r.t Z or etc"
   ]
  },
  {
   "cell_type": "markdown",
   "id": "35f65682",
   "metadata": {},
   "source": [
    "- $dZ_2 = ( A_2 - Y )$\n",
    "\n",
    "- $ dW_2 = \\frac{1}{m}. dZ_2 . A_1^T$\n",
    "\n",
    "- $ dB_2 = \\frac{1}{m}.sum(dZ_2, 1)$\n",
    "\n",
    "\n",
    "\n",
    "- $dZ_1 = W_2^T . dZ_2 * f_1^|(Z_1) $\n",
    "\n",
    "- $dW_1 = \\frac{1}{m}.dZ_1.X^T$\n",
    "\n",
    "- $dB_1 = \\frac{1}{m}.sum(dZ_1, 1)$"
   ]
  },
  {
   "cell_type": "markdown",
   "id": "5de69c61",
   "metadata": {},
   "source": [
    "# Following steps will be used for updating parameters during backpropogation to reduce the cost"
   ]
  },
  {
   "cell_type": "markdown",
   "id": "eb9d8005",
   "metadata": {},
   "source": [
    "- $ W_2 = W_2 -  \\alpha * \\frac{\\partial Cost }{\\partial W_2}$\n",
    "\n",
    "- $ B_2 = B_2 -  \\alpha * \\frac{\\partial Cost }{\\partial B_2}$\n",
    "\n",
    "- $ W_1 = W_1 -  \\alpha * \\frac{\\partial Cost }{\\partial W_1}$\n",
    "\n",
    "- $ B_1 = B_1 -  \\alpha * \\frac{\\partial Cost }{\\partial B_1}$"
   ]
  },
  {
   "cell_type": "markdown",
   "id": "fd7b5f5c",
   "metadata": {},
   "source": [
    "# Activation Functions"
   ]
  },
  {
   "cell_type": "markdown",
   "id": "cd1ccc97",
   "metadata": {},
   "source": [
    "- For the hidden layer we will be trying out two activation functions ReLU and tanh \n",
    "\n",
    "- For the output layer we will be using the softmax activation function as multiclass classification"
   ]
  },
  {
   "cell_type": "code",
   "execution_count": 6,
   "id": "a01eb16c",
   "metadata": {},
   "outputs": [],
   "source": [
    "def tanh(x):\n",
    "    return np.tanh(x)\n",
    "\n",
    "def relu(x):\n",
    "    return np.maximum(x,0)\n",
    "\n",
    "def softmax(x):\n",
    "    expzi=np.exp(x)\n",
    "    return expzi/np.sum(expzi,axis=0)  #according to the formula over all classes\n"
   ]
  },
  {
   "cell_type": "markdown",
   "id": "2fc70816",
   "metadata": {},
   "source": [
    "## For backpropogation we will need the derivative of these functions \n",
    "- $ deriv(tanh(x))= \\frac{d}{dx} \\tanh(x) = 1 - \\tanh^2(x)$\n",
    "\n",
    "- $ deriv(relu(x))= \\frac{d}{dx} \\text{ReLU}(x) =\\begin{cases}1, & \\text{if } x > 0 \\\\0, & \\text{if } x \\leq 0\\end{cases}$\n"
   ]
  },
  {
   "cell_type": "code",
   "execution_count": 7,
   "id": "9f041587",
   "metadata": {},
   "outputs": [],
   "source": [
    "def deriv_tanh(x):\n",
    "    return 1 - np.power(np.tanh(x),2)\n",
    "\n",
    "def deriv_relu(x):\n",
    "    return np.array(x>0, dtype=np.float32)"
   ]
  },
  {
   "cell_type": "markdown",
   "id": "5db7fea8",
   "metadata": {},
   "source": [
    "# Weight and Bias Initialization \n",
    "\n",
    "- We need to be careful while initializing the weights , why ?\n",
    "\n",
    "1.Vanishing Gradients (too small weights)\n",
    "Activations shrink through each layer.\n",
    "\n",
    "Gradients become close to 0 as they backpropagate.\n",
    "\n",
    "Result: Early layers don’t learn.\n",
    "\n",
    "2.Exploding Gradients (too large weights)\n",
    "Activations grow exponentially.\n",
    "\n",
    "Gradients become huge and unstable.\n",
    "\n",
    "Result: Weights blow up, learning diverges.\n",
    "\n"
   ]
  },
  {
   "cell_type": "code",
   "execution_count": 8,
   "id": "7abc31ff",
   "metadata": {},
   "outputs": [],
   "source": [
    "def parameter_initialize(n_1,n_2,n_3,activation):\n",
    "\n",
    "    w1 = np.random.randn(n_2, n_1)*0.01  #Initialize it to not very big not very small values\n",
    "    b1 = np.zeros((n_2, 1))\n",
    "    w2 = np.random.randn(n_3, n_2)*0.01  #same here\n",
    "    b2 = np.zeros((n_3, 1))\n",
    "\n",
    "    parameters = {\n",
    "        \"w1\" : w1,\n",
    "        \"b1\" : b1,\n",
    "        \"w2\" : w2,\n",
    "        \"b2\" : b2\n",
    "    }\n",
    "\n",
    "    return parameters\n",
    "    "
   ]
  },
  {
   "cell_type": "markdown",
   "id": "5f74a39a",
   "metadata": {},
   "source": [
    "# Forward Propogation Implementation"
   ]
  },
  {
   "cell_type": "code",
   "execution_count": 9,
   "id": "a75a8a3f",
   "metadata": {},
   "outputs": [],
   "source": [
    "def forward_prop(x,weight_bias,activation):\n",
    "    w1=weight_bias[\"w1\"]\n",
    "    w2=weight_bias[\"w2\"]\n",
    "    b1=weight_bias[\"b1\"]\n",
    "    b2=weight_bias[\"b2\"]\n",
    "\n",
    "    z1=np.dot(w1,x)+b1\n",
    "    a1=relu(z1)\n",
    "    if(activation=='tanh'):\n",
    "        a1=tanh(z1)\n",
    "    z2=np.dot(w2,a1)+b2\n",
    "    a2=softmax(z2)\n",
    "    \n",
    "    forward_val={\"z1\":z1,\"z2\":z2,\"a1\":a1,\"a2\":a2}\n",
    "\n",
    "    return forward_val\n"
   ]
  },
  {
   "cell_type": "markdown",
   "id": "92f033bb",
   "metadata": {},
   "source": [
    "# Cost Function Implementation "
   ]
  },
  {
   "cell_type": "markdown",
   "id": "ba8db347",
   "metadata": {},
   "source": [
    "## The following equations to be implemented \n",
    "\n",
    "- $Loss = - \\sum_{k=1}^{n}[ y_k*log(a_k) ]$ .. *for 1 observation*\n",
    "\n",
    "- $Cost = - \\frac{1}{m}\\sum_{i=1}^{m}\\sum_{k=1}^{n}[ y_k*log(a_k) ]$  \n",
    "\n",
    "\n",
    "- Here m is the number of images or training samples we have \n",
    "\n",
    "- Note that we have m images and n=10 classes  thus cost boils down to nothing but the summation of product of true result with logarithm of model result for that particular epoch.\n"
   ]
  },
  {
   "cell_type": "markdown",
   "id": "24b6aad5",
   "metadata": {},
   "source": []
  },
  {
   "cell_type": "code",
   "execution_count": 10,
   "id": "a2038bd8",
   "metadata": {},
   "outputs": [],
   "source": [
    "def cost_function(a2, y):\n",
    "\n",
    "    m = y.shape[1]  # as y shape is (10*1000) classes*images\n",
    "    cost = np.sum(y*np.log(a2)+1e-10)  #both y and a2 of same shape so summation of product  (also if by chance log value is zero 1e-10 will handle )\n",
    "    return (-1/m) * cost"
   ]
  },
  {
   "cell_type": "markdown",
   "id": "f5f8bd5e",
   "metadata": {},
   "source": [
    "# Back Propogation Equations"
   ]
  },
  {
   "cell_type": "markdown",
   "id": "c6668ed7",
   "metadata": {},
   "source": [
    "As deriveed in the pdf we need to implement the following equations for back propogation \n",
    "\n",
    "- Note: Here for eg. dZ_2 means derivate of Loss function w.r.t Z_2"
   ]
  },
  {
   "cell_type": "markdown",
   "id": "f69e1aac",
   "metadata": {},
   "source": [
    "- $dZ_2 = ( A_2 - Y )$  \n",
    "\n",
    "- $ dW_2 = \\frac{1}{m}. dZ_2 . A_1^T$\n",
    "\n",
    "- $ dB_2 = \\frac{1}{m}.sum(dZ_2, 1)$  --> Column wise summation\n",
    "\n",
    "\n",
    "\n",
    "- $dZ_1 = W_2^T . dZ_2 * f_1^|(Z_1) $\n",
    "\n",
    "- $dW_1 = \\frac{1}{m}.dZ_1.X^T$\n",
    "\n",
    "- $dB_1 = \\frac{1}{m}.sum(dZ_1, 1)$   --> Column wise summation  \n",
    "\n",
    "\n",
    "- Also it is important to note here that for equations 3 and 6  we have use numpy attribute which takes column wise sum i.e \n",
    "eg: dz2 is of shape(10,1000) thus to convert it to (10,1 ) we use this as in derivation specified"
   ]
  },
  {
   "cell_type": "code",
   "execution_count": 11,
   "id": "a24f77b9",
   "metadata": {},
   "outputs": [],
   "source": [
    "def back_prop(x,y,weight_bias,forward_val,activation):\n",
    "\n",
    "    m=x.shape[1]  # no of training samples\n",
    "\n",
    "    w1=weight_bias[\"w1\"]\n",
    "    w2=weight_bias[\"w2\"]\n",
    "    b1=weight_bias[\"b1\"]\n",
    "    b2=weight_bias[\"b2\"]\n",
    "\n",
    "    a1=forward_val[\"a1\"]\n",
    "    a2=forward_val[\"a2\"]\n",
    "\n",
    "\n",
    "    #eq1\n",
    "    dz2=a2-y\n",
    "\n",
    "    #eq2\n",
    "    dw2=(1/m)*np.dot(dz2,a1.T)\n",
    "\n",
    "    #eq3\n",
    "\n",
    "    db2=(1/m)*np.sum(dz2,axis=1,keepdims=True) #column wise sum  \n",
    "\n",
    "    #eq4\n",
    "    dz1 = np.dot(w2.T, dz2)*deriv_relu(a1)\n",
    "    if activation=='tanh':\n",
    "        dz1 = np.dot(w2.T, dz2)*deriv_tanh(a1)\n",
    "    \n",
    "\n",
    "\n",
    "    #eq5\n",
    "\n",
    "    dw1 = 1/m * np.dot(dz1, x.T)\n",
    "\n",
    "    #eq6\n",
    "    db1 = 1/m * np.sum(dz1, axis = 1, keepdims = True)  #column wise sum\n",
    "\n",
    "\n",
    "    ## Returning the Gradients/Derivatives\n",
    "    gradients = {\n",
    "        \"dw1\" : dw1,\n",
    "        \"db1\" : db1,\n",
    "        \"dw2\" : dw2,\n",
    "        \"db2\" : db2\n",
    "    }\n",
    "\n",
    "    return gradients\n"
   ]
  },
  {
   "cell_type": "markdown",
   "id": "3d1e6bbf",
   "metadata": {},
   "source": [
    "GRADIENT DESCENT UPDATE OF PARAMETERS FUNCTION"
   ]
  },
  {
   "cell_type": "markdown",
   "id": "a85f205c",
   "metadata": {},
   "source": []
  },
  {
   "cell_type": "code",
   "execution_count": 12,
   "id": "69a9ba39",
   "metadata": {},
   "outputs": [],
   "source": [
    "def gradient_descent(weight_bias, gradients, learning_rate):\n",
    "\n",
    "\n",
    "    w1 = weight_bias['w1']\n",
    "    b1 = weight_bias['b1']\n",
    "    w2 = weight_bias['w2']\n",
    "    b2 = weight_bias['b2']\n",
    "\n",
    "    dw1 = gradients['dw1']\n",
    "    db1 = gradients['db1']\n",
    "    dw2 = gradients['dw2']\n",
    "    db2 = gradients['db2']\n",
    "\n",
    "# updating the weights and biases\n",
    "    w1 = w1 - learning_rate * dw1\n",
    "    b1 = b1 - learning_rate * db1\n",
    "    w2 = w2 - learning_rate * dw2\n",
    "    b2 = b2 - learning_rate * db2\n",
    "\n",
    "    # Returning the updated parameters\n",
    "    update_parameters = {\n",
    "        \"w1\" : w1,\n",
    "        \"b1\" : b1,\n",
    "        \"w2\" : w2,\n",
    "        \"b2\" : b2\n",
    "    }\n",
    "\n",
    "    return update_parameters"
   ]
  },
  {
   "cell_type": "markdown",
   "id": "c751f190",
   "metadata": {},
   "source": [
    "# STEPS TO RUN THE MODEL\n",
    "\n",
    "1. Initialize the weights and biases at the start.\n",
    "2. Initialize the learning rate,the number of epochs and the size of the hidden layer.\n",
    "3. Then we will be running the following steps in loop for the number of epochs specified.\n",
    "\n",
    " - forward_prop(x,weight_bias,activation)\n",
    " - cost_function(a2, y)\n",
    " - back_prop(x,y,weight_bias,forward_val,activation)\n",
    " - gradient_descent(weight_bias, gradients, learning_rate)\n",
    "\n",
    "\n",
    "At the end we will be returning the weights and biases for our trained model and also to visulaize the results we will be keeping a track of cost at every few steps of epochs.\n",
    "\n"
   ]
  },
  {
   "cell_type": "code",
   "execution_count": 13,
   "id": "213cc140",
   "metadata": {},
   "outputs": [],
   "source": [
    "def neural_network_model(x,y,hidd_size,learning_rate,epochs,activation):\n",
    "\n",
    "    n_x=x.shape[0]    #the number of pixels/features here 784(28*28)\n",
    "    n_y=y.shape[0]    #the number of output classes here 10\n",
    "\n",
    "\n",
    "    cost_track=[]\n",
    "    \n",
    "    weight_bias=parameter_initialize(n_x,hidd_size,n_y,activation) \n",
    "\n",
    "    for i in range(epochs):\n",
    "\n",
    "        # Forward Propogation\n",
    "        forward_val=forward_prop(x,weight_bias,activation)\n",
    "        a2=forward_val['a2']\n",
    "\n",
    "        # Calculate the cost \n",
    "\n",
    "        cost=cost_function(a2,y)\n",
    "\n",
    "        #Back Propogation do\n",
    "\n",
    "        grads=back_prop(x,y,weight_bias,forward_val,activation)\n",
    "\n",
    "\n",
    "        # Do Gradient Descent\n",
    "\n",
    "        weight_bias=gradient_descent(weight_bias,grads,learning_rate)\n",
    "\n",
    "\n",
    "        cost_track.append(cost)\n",
    "\n",
    "        if(i%10==0):\n",
    "            print(f\"Cost after {i}th iteration is = {cost}\")\n",
    "        \n",
    "\n",
    "    return weight_bias, cost_track"
   ]
  },
  {
   "cell_type": "code",
   "execution_count": 14,
   "id": "b58e4591",
   "metadata": {},
   "outputs": [
    {
     "name": "stdout",
     "output_type": "stream",
     "text": [
      "(784, 1000) (10, 1000)\n",
      "Cost after 0th iteration is = 8.038495774317218\n",
      "Cost after 10th iteration is = 0.601896860693428\n",
      "Cost after 20th iteration is = 0.20241284659760267\n",
      "Cost after 30th iteration is = 0.10421031070644231\n",
      "Cost after 40th iteration is = 0.06633493507495965\n",
      "Cost after 50th iteration is = 0.04786960209233679\n",
      "Cost after 60th iteration is = 0.037002096493083114\n",
      "Cost after 70th iteration is = 0.0299274139193631\n",
      "Cost after 80th iteration is = 0.025021101821335552\n",
      "Cost after 90th iteration is = 0.021458733881305626\n"
     ]
    }
   ],
   "source": [
    "hidden_layer_size=1000 \n",
    "\n",
    "learning_rate=0.002\n",
    "epochs=100\n",
    "activation ='relu'  #you can change accordingly \n",
    "# X_train=X_train.T\n",
    "# Y_train=Y_train.T\n",
    "print(X_train.shape,Y_train.shape)\n",
    "weight_bias,cost_list=neural_network_model(X_train,Y_train,hidden_layer_size,learning_rate,epochs,activation)"
   ]
  },
  {
   "cell_type": "markdown",
   "id": "b9e60458",
   "metadata": {},
   "source": [
    "# VISUALIZING THE ERROR OVER THE EPOCHS"
   ]
  },
  {
   "cell_type": "markdown",
   "id": "0a1ee16c",
   "metadata": {},
   "source": []
  },
  {
   "cell_type": "code",
   "execution_count": 15,
   "id": "5a857efd",
   "metadata": {},
   "outputs": [
    {
     "data": {
      "image/png": "[encoded data removed]",
      "text/plain": [
       "<Figure size 640x480 with 1 Axes>"
      ]
     },
     "metadata": {},
     "output_type": "display_data"
    }
   ],
   "source": [
    "\n",
    "\n",
    "plt.plot(range(1, 101), cost_list)\n",
    "plt.xlabel('Epoch')\n",
    "plt.ylabel('Cost')\n",
    "plt.title('Cost vs Epoch')\n",
    "plt.grid(True)\n",
    "plt.show()\n"
   ]
  },
  {
   "cell_type": "markdown",
   "id": "6abfb4b4",
   "metadata": {},
   "source": [
    "# Finding the accuracy of training and testing dataset"
   ]
  },
  {
   "cell_type": "code",
   "execution_count": 16,
   "id": "5995b26e",
   "metadata": {},
   "outputs": [],
   "source": [
    "def accuracy(x,y,weight_bias,activation):\n",
    "    forw_prop=forward_prop(x,weight_bias,activation)\n",
    "    a2=forw_prop[\"a2\"]\n",
    "\n",
    "    a2=np.argmax(a2,0)\n",
    "\n",
    "    class_lab=np.argmax(y,0)\n",
    "\n",
    "    accuraccy_real=np.mean(a2==class_lab)*100\n",
    "\n",
    "    return accuraccy_real"
   ]
  },
  {
   "cell_type": "markdown",
   "id": "67552ac9",
   "metadata": {},
   "source": [
    "# Checking the accuracy "
   ]
  },
  {
   "cell_type": "code",
   "execution_count": 17,
   "id": "7470c7a6",
   "metadata": {},
   "outputs": [
    {
     "name": "stdout",
     "output_type": "stream",
     "text": [
      "\n",
      "Accuracy of the Train Dataset is: 100.0\n",
      "\n",
      "Accuraccy of the Testing Dataset is: 86.85714285714286\n"
     ]
    }
   ],
   "source": [
    "## Training Data\n",
    "\n",
    "train_acc=accuracy(X_train,Y_train,weight_bias,activation)\n",
    "\n",
    "#Testing Data\n",
    "\n",
    "X_test= np.loadtxt('features_test.csv',delimiter=',')\n",
    "Y_test=np.loadtxt(\"label_test.csv\",delimiter=\",\")\n",
    "X_test=X_test.T\n",
    "Y_test=Y_test.T\n",
    "test_acc=accuracy(X_test,Y_test,weight_bias,activation)\n",
    "print(f\"\\nAccuracy of the Train Dataset is: {train_acc}\")\n",
    "\n",
    "print(f\"\\nAccuraccy of the Testing Dataset is: {test_acc}\")"
   ]
  },
  {
   "cell_type": "code",
   "execution_count": 18,
   "id": "0485440b-4fa9-4593-917a-da3fab31e0dd",
   "metadata": {},
   "outputs": [
    {
     "data": {
      "image/png": "[encoded data removed]",
      "text/plain": [
       "<Figure size 640x480 with 1 Axes>"
      ]
     },
     "metadata": {},
     "output_type": "display_data"
    },
    {
     "name": "stdout",
     "output_type": "stream",
     "text": [
      "The Model predicts: 4\n"
     ]
    }
   ],
   "source": [
    "idx = int(random.randrange(0,X_test.shape[1]))  #ACTUAL OYUTPUT \n",
    "plt.imshow(X_test[:, idx].reshape((28,28)),cmap='gray')\n",
    "plt.show()  \n",
    "\n",
    "cache = forward_prop(X_test[:, idx].reshape(X_test[:, idx].shape[0], 1), weight_bias,activation)  #INPUT THAT PARTICULAR IMAGE ONLY TO THE MODEL\n",
    "a_pred = cache['a2']\n",
    "a_pred = np.argmax(a_pred, 0)\n",
    "\n",
    "print(\"The Model predicts:\", a_pred[0])"
   ]
  }
 ],
 "metadata": {
  "kernelspec": {
   "display_name": "Python 3 (ipykernel)",
   "language": "python",
   "name": "python3"
  },
  "language_info": {
   "codemirror_mode": {
    "name": "ipython",
    "version": 3
   },
   "file_extension": ".py",
   "mimetype": "text/x-python",
   "name": "python",
   "nbconvert_exporter": "python",
   "pygments_lexer": "ipython3",
   "version": "3.12.0"
  }
 },
 "nbformat": 4,
 "nbformat_minor": 5
}
